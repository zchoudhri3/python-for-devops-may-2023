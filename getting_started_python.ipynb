{
  "nbformat": 4,
  "nbformat_minor": 0,
  "metadata": {
    "colab": {
      "provenance": [],
      "toc_visible": true,
      "authorship_tag": "ABX9TyMsTG0OldBpwH1JrbxdvKxd",
      "include_colab_link": true
    },
    "kernelspec": {
      "name": "python3",
      "display_name": "Python 3"
    },
    "language_info": {
      "name": "python"
    }
  },
  "cells": [
    {
      "cell_type": "markdown",
      "metadata": {
        "id": "view-in-github",
        "colab_type": "text"
      },
      "source": [
        "<a href=\"https://colab.research.google.com/github/zchoudhri3/python-for-devops-may-2023/blob/main/getting_started_python.ipynb\" target=\"_parent\"><img src=\"https://colab.research.google.com/assets/colab-badge.svg\" alt=\"Open In Colab\"/></a>"
      ]
    },
    {
      "cell_type": "markdown",
      "source": [
        "## Introduction to Python\n"
      ],
      "metadata": {
        "id": "POi6m7aN_atK"
      }
    },
    {
      "cell_type": "markdown",
      "source": [
        "### Statements in Python\n"
      ],
      "metadata": {
        "id": "36wnyOKEAbbb"
      }
    },
    {
      "cell_type": "code",
      "execution_count": 2,
      "metadata": {
        "id": "-RMPk5Ho03Yc",
        "colab": {
          "base_uri": "https://localhost:8080/"
        },
        "outputId": "ffcc5244-6bd4-4dee-f167-921ab365666b"
      },
      "outputs": [
        {
          "output_type": "stream",
          "name": "stdout",
          "text": [
            "Hello World\n",
            "hello bob\n"
          ]
        }
      ],
      "source": [
        "print('Hello World')\n",
        "name = \"bob\"\n",
        "print(f\"hello {name}\")"
      ]
    },
    {
      "cell_type": "markdown",
      "source": [
        "Datastructures: List and Dictionaries"
      ],
      "metadata": {
        "id": "SH-8IPwrBsFU"
      }
    },
    {
      "cell_type": "markdown",
      "source": [
        "#### An example of a list"
      ],
      "metadata": {
        "id": "y-zfoWZeJJCD"
      }
    },
    {
      "cell_type": "code",
      "source": [
        "fruit = [\"apple\", \"pear\", \"strawberry\"]"
      ],
      "metadata": {
        "id": "aDMvUg_cB1F7"
      },
      "execution_count": 3,
      "outputs": []
    },
    {
      "cell_type": "code",
      "source": [
        "type(fruit)"
      ],
      "metadata": {
        "colab": {
          "base_uri": "https://localhost:8080/"
        },
        "id": "DEC-PqLzCKi_",
        "outputId": "1dd6dbe0-1f7b-4682-d08a-650b45f82dc7"
      },
      "execution_count": 4,
      "outputs": [
        {
          "output_type": "execute_result",
          "data": {
            "text/plain": [
              "list"
            ]
          },
          "metadata": {},
          "execution_count": 4
        }
      ]
    },
    {
      "cell_type": "code",
      "source": [
        "fruit[:-1]"
      ],
      "metadata": {
        "colab": {
          "base_uri": "https://localhost:8080/"
        },
        "id": "az3soKgNEPHX",
        "outputId": "3ea54a3e-fde3-4ef3-ba33-cf0c782ae49a"
      },
      "execution_count": 5,
      "outputs": [
        {
          "output_type": "execute_result",
          "data": {
            "text/plain": [
              "['apple', 'pear']"
            ]
          },
          "metadata": {},
          "execution_count": 5
        }
      ]
    },
    {
      "cell_type": "code",
      "source": [
        "for my_fruit in fruit:\n",
        "  print(f\"This is my favorite fruit: {my_fruit}\")"
      ],
      "metadata": {
        "colab": {
          "base_uri": "https://localhost:8080/"
        },
        "id": "sjx0ot6zEeJq",
        "outputId": "1be2c118-2a51-4d8a-de5c-cd72978d989f"
      },
      "execution_count": 6,
      "outputs": [
        {
          "output_type": "stream",
          "name": "stdout",
          "text": [
            "This is my favorite fruit: apple\n",
            "This is my favorite fruit: pear\n",
            "This is my favorite fruit: strawberry\n"
          ]
        }
      ]
    },
    {
      "cell_type": "markdown",
      "source": [],
      "metadata": {
        "id": "cAISrImgJSJw"
      }
    },
    {
      "cell_type": "markdown",
      "source": [
        "#### An example of a dictionary"
      ],
      "metadata": {
        "id": "GA-on-neJUfd"
      }
    },
    {
      "cell_type": "code",
      "source": [
        "meal = {\"breakfast\": \"black coffee\", \"lunch\": \"salad\", \"dinner\": \"steak\"}"
      ],
      "metadata": {
        "id": "oULCts2qJcry"
      },
      "execution_count": 8,
      "outputs": []
    },
    {
      "cell_type": "code",
      "source": [
        "meal.keys()"
      ],
      "metadata": {
        "colab": {
          "base_uri": "https://localhost:8080/"
        },
        "id": "mWefVrw3JvEe",
        "outputId": "c4fa4344-2eff-4ac8-8354-c0023ce3b14f"
      },
      "execution_count": 9,
      "outputs": [
        {
          "output_type": "execute_result",
          "data": {
            "text/plain": [
              "dict_keys(['breakfast', 'lunch', 'dinner'])"
            ]
          },
          "metadata": {},
          "execution_count": 9
        }
      ]
    },
    {
      "cell_type": "code",
      "source": [
        "meal.values()"
      ],
      "metadata": {
        "colab": {
          "base_uri": "https://localhost:8080/"
        },
        "id": "1CjLWB7UJ3MR",
        "outputId": "83be2818-671f-4164-a6a7-29ca27426e68"
      },
      "execution_count": 10,
      "outputs": [
        {
          "output_type": "execute_result",
          "data": {
            "text/plain": [
              "dict_values(['black coffee', 'salad', 'steak'])"
            ]
          },
          "metadata": {},
          "execution_count": 10
        }
      ]
    },
    {
      "cell_type": "code",
      "source": [
        "for meal_name, meal_item in meal.items():\n",
        "  print(f\"This meal {meal_name} is when I like to consume {meal_item}\")"
      ],
      "metadata": {
        "colab": {
          "base_uri": "https://localhost:8080/"
        },
        "id": "MCmzE7xQJ539",
        "outputId": "c8c6248e-5b49-47b7-ca5a-63a63bdd6461"
      },
      "execution_count": 11,
      "outputs": [
        {
          "output_type": "stream",
          "name": "stdout",
          "text": [
            "This meal breakfast is when I like to consume black coffee\n",
            "This meal lunch is when I like to consume salad\n",
            "This meal dinner is when I like to consume steak\n"
          ]
        }
      ]
    }
  ]
}